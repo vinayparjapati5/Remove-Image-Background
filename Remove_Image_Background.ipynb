{
  "nbformat": 4,
  "nbformat_minor": 0,
  "metadata": {
    "colab": {
      "provenance": [],
      "authorship_tag": "ABX9TyNHqn6ZTyQSASstE6tp61As",
      "include_colab_link": true
    },
    "kernelspec": {
      "name": "python3",
      "display_name": "Python 3"
    },
    "language_info": {
      "name": "python"
    }
  },
  "cells": [
    {
      "cell_type": "markdown",
      "metadata": {
        "id": "view-in-github",
        "colab_type": "text"
      },
      "source": [
        "<a href=\"https://colab.research.google.com/github/vinayparjapati5/Remove-Image-Background/blob/main/Remove_Image_Background.ipynb\" target=\"_parent\"><img src=\"https://colab.research.google.com/assets/colab-badge.svg\" alt=\"Open In Colab\"/></a>"
      ]
    },
    {
      "cell_type": "markdown",
      "source": [
        "---\n",
        "### 1. Installing Library\n",
        "---"
      ],
      "metadata": {
        "id": "8YTWc4O85_Tz"
      }
    },
    {
      "cell_type": "code",
      "execution_count": 1,
      "metadata": {
        "colab": {
          "base_uri": "https://localhost:8080/"
        },
        "id": "F7LLyf8e58bu",
        "outputId": "15205d9c-e70a-4c02-fde1-cc044cdbfca8"
      },
      "outputs": [
        {
          "output_type": "stream",
          "name": "stdout",
          "text": [
            "Rembg installed successfully\n"
          ]
        }
      ],
      "source": [
        "!pip install rembg &> /dev/null\n",
        "print(\"Rembg installed successfully\")"
      ]
    },
    {
      "cell_type": "markdown",
      "source": [
        "---\n",
        "### 2. Main Program\n",
        "---"
      ],
      "metadata": {
        "id": "qIIBml8y6bPm"
      }
    },
    {
      "cell_type": "code",
      "source": [
        "from rembg import remove\n",
        "from PIL import Image\n",
        "\n",
        "input_path =\"/content/input_bird.jpg\"\n",
        "output_path =\"output.png\"\n",
        "input = Image.open(input_path)\n",
        "output = remove(input)\n",
        "output.save(output_path)\n",
        "\n"
      ],
      "metadata": {
        "id": "mYZggo1V6i70"
      },
      "execution_count": 4,
      "outputs": []
    }
  ]
}